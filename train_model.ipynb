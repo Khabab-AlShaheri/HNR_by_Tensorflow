{
 "cells": [
  {
   "cell_type": "code",
   "execution_count": 1,
   "id": "893b6e73",
   "metadata": {},
   "outputs": [
    {
     "name": "stdout",
     "output_type": "stream",
     "text": [
      "Epoch 1/20\n"
     ]
    },
    {
     "name": "stderr",
     "output_type": "stream",
     "text": [
      "c:\\Users\\ComputerWorld\\AppData\\Local\\Programs\\Python\\Python312\\Lib\\site-packages\\keras\\src\\layers\\core\\dense.py:87: UserWarning: Do not pass an `input_shape`/`input_dim` argument to a layer. When using Sequential models, prefer using an `Input(shape)` object as the first layer in the model instead.\n",
      "  super().__init__(activity_regularizer=activity_regularizer, **kwargs)\n"
     ]
    },
    {
     "name": "stdout",
     "output_type": "stream",
     "text": [
      "422/422 - 4s - 10ms/step - accuracy: 0.5032 - loss: 1.4645 - val_accuracy: 0.8940 - val_loss: 0.4276\n",
      "Epoch 2/20\n",
      "422/422 - 3s - 7ms/step - accuracy: 0.7928 - loss: 0.6637 - val_accuracy: 0.9313 - val_loss: 0.2485\n",
      "Epoch 3/20\n",
      "422/422 - 3s - 7ms/step - accuracy: 0.8627 - loss: 0.4695 - val_accuracy: 0.9447 - val_loss: 0.1945\n",
      "Epoch 4/20\n",
      "422/422 - 3s - 7ms/step - accuracy: 0.8901 - loss: 0.3843 - val_accuracy: 0.9530 - val_loss: 0.1642\n",
      "Epoch 5/20\n",
      "422/422 - 4s - 10ms/step - accuracy: 0.9075 - loss: 0.3253 - val_accuracy: 0.9607 - val_loss: 0.1403\n",
      "Epoch 6/20\n",
      "422/422 - 3s - 8ms/step - accuracy: 0.9196 - loss: 0.2854 - val_accuracy: 0.9637 - val_loss: 0.1249\n",
      "Epoch 7/20\n",
      "422/422 - 3s - 8ms/step - accuracy: 0.9272 - loss: 0.2565 - val_accuracy: 0.9668 - val_loss: 0.1107\n",
      "Epoch 8/20\n",
      "422/422 - 4s - 9ms/step - accuracy: 0.9359 - loss: 0.2287 - val_accuracy: 0.9685 - val_loss: 0.1056\n",
      "Epoch 9/20\n",
      "422/422 - 3s - 8ms/step - accuracy: 0.9406 - loss: 0.2089 - val_accuracy: 0.9700 - val_loss: 0.0987\n",
      "Epoch 10/20\n",
      "422/422 - 3s - 8ms/step - accuracy: 0.9456 - loss: 0.1941 - val_accuracy: 0.9723 - val_loss: 0.0941\n",
      "Epoch 11/20\n",
      "422/422 - 3s - 7ms/step - accuracy: 0.9498 - loss: 0.1789 - val_accuracy: 0.9740 - val_loss: 0.0870\n",
      "Epoch 12/20\n",
      "422/422 - 3s - 7ms/step - accuracy: 0.9514 - loss: 0.1692 - val_accuracy: 0.9742 - val_loss: 0.0841\n",
      "Epoch 13/20\n",
      "422/422 - 4s - 9ms/step - accuracy: 0.9550 - loss: 0.1583 - val_accuracy: 0.9762 - val_loss: 0.0820\n",
      "Epoch 14/20\n",
      "422/422 - 3s - 7ms/step - accuracy: 0.9593 - loss: 0.1468 - val_accuracy: 0.9762 - val_loss: 0.0782\n",
      "Epoch 15/20\n",
      "422/422 - 3s - 7ms/step - accuracy: 0.9615 - loss: 0.1365 - val_accuracy: 0.9765 - val_loss: 0.0787\n",
      "Epoch 16/20\n",
      "422/422 - 4s - 9ms/step - accuracy: 0.9632 - loss: 0.1271 - val_accuracy: 0.9783 - val_loss: 0.0745\n",
      "Epoch 17/20\n",
      "422/422 - 3s - 7ms/step - accuracy: 0.9653 - loss: 0.1212 - val_accuracy: 0.9798 - val_loss: 0.0714\n",
      "Epoch 18/20\n",
      "422/422 - 4s - 9ms/step - accuracy: 0.9669 - loss: 0.1149 - val_accuracy: 0.9797 - val_loss: 0.0684\n",
      "Epoch 19/20\n",
      "422/422 - 4s - 9ms/step - accuracy: 0.9691 - loss: 0.1102 - val_accuracy: 0.9807 - val_loss: 0.0681\n",
      "Epoch 20/20\n",
      "422/422 - 4s - 8ms/step - accuracy: 0.9708 - loss: 0.1033 - val_accuracy: 0.9802 - val_loss: 0.0692\n"
     ]
    },
    {
     "name": "stderr",
     "output_type": "stream",
     "text": [
      "WARNING:absl:You are saving your model as an HDF5 file via `model.save()` or `keras.saving.save_model(model)`. This file format is considered legacy. We recommend using instead the native Keras format, e.g. `model.save('my_model.keras')` or `keras.saving.save_model(model, 'my_model.keras')`. \n"
     ]
    },
    {
     "name": "stdout",
     "output_type": "stream",
     "text": [
      "\n",
      "Test accuracy: 0.9773\n"
     ]
    }
   ],
   "source": [
    "import tensorflow as tf\n",
    "import numpy as np\n",
    "\n",
    "# البيانات: تحميل MNIST وتقسيمها\n",
    "(x_train, y_train), (x_test, y_test) = tf.keras.datasets.mnist.load_data()\n",
    "\n",
    "# تحجيم الصور إلى [0, 1]\n",
    "x_train = x_train.astype('float32') / 255.0\n",
    "x_test  = x_test.astype('float32') / 255.0\n",
    "\n",
    "# إعادة تشكيل الصور إلى متجهات (784 عنصر)\n",
    "x_train = x_train.reshape(-1, 28*28)\n",
    "x_test  = x_test.reshape(-1, 28*28)\n",
    "\n",
    "# تحويل التصنيفات إلى ترميز one-hot تلقائيًا\n",
    "num_classes = 10\n",
    "y_train = tf.keras.utils.to_categorical(y_train, num_classes)\n",
    "y_test  = tf.keras.utils.to_categorical(y_test,  num_classes)\n",
    "\n",
    "# بناء النموذج باستخدام Keras\n",
    "model = tf.keras.Sequential([\n",
    "    tf.keras.layers.Dense(512, activation='relu', input_shape=(784,)),\n",
    "    tf.keras.layers.Dropout(0.5),\n",
    "    tf.keras.layers.Dense(256, activation='relu'),\n",
    "    tf.keras.layers.Dropout(0.5),\n",
    "    tf.keras.layers.Dense(128, activation='relu'),\n",
    "    tf.keras.layers.Dropout(0.5),\n",
    "    tf.keras.layers.Dense(10, activation='softmax')\n",
    "])\n",
    "\n",
    "# تجميع النموذج\n",
    "model.compile(\n",
    "    optimizer=tf.keras.optimizers.Adam(learning_rate=1e-4),\n",
    "    loss='categorical_crossentropy',\n",
    "    metrics=['accuracy']\n",
    ")\n",
    "\n",
    "# تدريب النموذج\n",
    "history = model.fit(\n",
    "    x_train, y_train,\n",
    "    epochs=20,\n",
    "    batch_size=128,\n",
    "    validation_split=0.1,\n",
    "    verbose=2\n",
    ")\n",
    "\n",
    "# التقييم على بيانات الاختبار\n",
    "test_loss, test_accuracy = model.evaluate(x_test, y_test, verbose=0)\n",
    "print(f\"\\nTest accuracy: {test_accuracy:.4f}\")\n",
    "\n",
    "model.save('model/mnist_model.h5')"
   ]
  }
 ],
 "metadata": {
  "kernelspec": {
   "display_name": "Python 3",
   "language": "python",
   "name": "python3"
  },
  "language_info": {
   "codemirror_mode": {
    "name": "ipython",
    "version": 3
   },
   "file_extension": ".py",
   "mimetype": "text/x-python",
   "name": "python",
   "nbconvert_exporter": "python",
   "pygments_lexer": "ipython3",
   "version": "3.12.5"
  }
 },
 "nbformat": 4,
 "nbformat_minor": 5
}
